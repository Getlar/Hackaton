{
 "cells": [
  {
   "cell_type": "code",
   "execution_count": 1,
   "id": "6ec4f589",
   "metadata": {},
   "outputs": [],
   "source": [
    "import cohere"
   ]
  },
  {
   "cell_type": "code",
   "execution_count": 3,
   "id": "a7e040c8",
   "metadata": {},
   "outputs": [],
   "source": [
    "co = cohere.Client('zk2nXqZraOekKKc7BkxZ9WIpTWzFuzQmywe6gl5Y')"
   ]
  },
  {
   "cell_type": "code",
   "execution_count": 5,
   "id": "9a418ee8",
   "metadata": {},
   "outputs": [],
   "source": [
    "from cohere.classify import Example\n",
    "\n",
    "examples=[\n",
    "  Example(\"How do I find my insurance policy?\", \"Finding policy details\"),\n",
    "  Example(\"How do I download a copy of my insurance policy?\", \"Finding policy details\"),\n",
    "  Example(\"How do I find my policy effective date?\", \"Finding policy details\"),\n",
    "  Example(\"When does my insurance policy end?\", \"Finding policy details\"),\n",
    "  Example(\"Could you please tell me the date my policy becomes effective?\", \"Finding policy details\"),\n",
    "  Example(\"How do I sign up for electronic filing?\", \"Change account settings\"),\n",
    "  Example(\"How do I change my policy?\", \"Change account settings\"),\n",
    "  Example(\"How do I sign up for direct deposit?\", \"Change account settings\"),\n",
    "  Example(\"I want direct deposit. Can you help with that?\", \"Change account settings\"),\n",
    "  Example(\"Could you deposit money into my account rather than mailing me a physical cheque?\", \"Change account settings\"),\n",
    "  Example(\"How do I file an insurance claim?\", \"Filing a claim and viewing status\"),\n",
    "  Example(\"How do I file a reimbursement claim?\", \"Filing a claim and viewing status\"),\n",
    "  Example(\"How do I check my claim status?\", \"Filing a claim and viewing status\"),\n",
    "  Example(\"When will my claim be reimbursed?\", \"Filing a claim and viewing status\"),\n",
    "  Example(\"I filed my claim 2 weeks ago but I still haven’t received a deposit for it.\", \"Filing a claim and viewing status\"),\n",
    "  Example(\"I want to cancel my policy immediately! This is nonsense.\", \"Cancelling coverage\"),\n",
    "  Example(\"Could you please help my end my insurance coverage? Thank you.\",\n",
    "  \"Cancelling coverage\"),\n",
    "  Example(\"Your service sucks. I’m switching providers. Cancel my coverage.\", \"Cancelling coverage\"),\n",
    "  Example(\"Hello there! How do I cancel my coverage?\", \"Cancelling coverage\"),\n",
    "  Example(\"How do I delete my account?\", \"Cancelling coverage\")\n",
    "]\n"
   ]
  },
  {
   "cell_type": "code",
   "execution_count": 19,
   "id": "e67f60ef",
   "metadata": {},
   "outputs": [],
   "source": [
    "inputs=[\"I want to change my password\", \n",
    "        \"Does my policy cover prescription medication?\"\n",
    "        ]"
   ]
  },
  {
   "cell_type": "code",
   "execution_count": 20,
   "id": "34f6ccf5",
   "metadata": {},
   "outputs": [],
   "source": [
    "response = co.classify(\n",
    "  inputs=inputs,\n",
    "  examples=examples,\n",
    ")"
   ]
  },
  {
   "cell_type": "code",
   "execution_count": 25,
   "id": "7d9a3298",
   "metadata": {},
   "outputs": [
    {
     "name": "stdout",
     "output_type": "stream",
     "text": [
      "Question: I want to change my password\n",
      "Prediction: Change account settings\n",
      "Label: Cancelling coverage\n",
      "Label: Change account settings\n",
      "Label: Filing a claim and viewing status\n",
      "Label: Finding policy details\n",
      "--------------------------------------------------\n",
      "Question: Does my policy cover prescription medication?\n",
      "Prediction: Finding policy details\n",
      "Label: Cancelling coverage\n",
      "Label: Change account settings\n",
      "Label: Filing a claim and viewing status\n",
      "Label: Finding policy details\n",
      "--------------------------------------------------\n"
     ]
    }
   ],
   "source": [
    "for i,classification in enumerate(response.classifications):\n",
    "    print(\"Question:\", inputs[i])\n",
    "    print(\"Prediction:\",classification.prediction)\n",
    "    for label in classification.labels:\n",
    "        print(\"Label:\", label)\n",
    "    print('--------------------------------------------------')\n",
    "    "
   ]
  },
  {
   "cell_type": "code",
   "execution_count": null,
   "id": "f5de57db",
   "metadata": {},
   "outputs": [],
   "source": []
  }
 ],
 "metadata": {
  "kernelspec": {
   "display_name": "T",
   "language": "python",
   "name": "t"
  },
  "language_info": {
   "codemirror_mode": {
    "name": "ipython",
    "version": 3
   },
   "file_extension": ".py",
   "mimetype": "text/x-python",
   "name": "python",
   "nbconvert_exporter": "python",
   "pygments_lexer": "ipython3",
   "version": "3.8.1"
  }
 },
 "nbformat": 4,
 "nbformat_minor": 5
}
