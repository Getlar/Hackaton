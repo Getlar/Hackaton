{
 "cells": [
  {
   "cell_type": "code",
   "execution_count": 1,
   "id": "0f7778fe",
   "metadata": {},
   "outputs": [],
   "source": [
    "import cohere"
   ]
  },
  {
   "cell_type": "code",
   "execution_count": 3,
   "id": "585292ec",
   "metadata": {},
   "outputs": [
    {
     "name": "stdout",
     "output_type": "stream",
     "text": [
      "Prediction:  Atlanta, there was a salon that was filled with whimsical and enchanting stylists. The stylists would use their magic to make all of their clients look and feel like a princess. The salon was called Magic Mirror. The stylists had two\n"
     ]
    }
   ],
   "source": [
    "co = cohere.Client('xK5Vyd8x0tTG8RdSBeIrsYPqwgfxI1AiW3EbUmdi', '2022-12-06')\n",
    "response = co.generate(\n",
    "    model = \"bd54bff1-2745-4675-8bda-0d267c649b65-ft\"\n",
    "    prompt='I want to have fun',\n",
    "    max_tokens=5)\n",
    "print('Prediction: {}'.format(response.generations[0].text))"
   ]
  },
  {
   "cell_type": "code",
   "execution_count": 5,
   "id": "911b0d76",
   "metadata": {},
   "outputs": [],
   "source": [
    "try:\n",
    "    response = co.generate(\n",
    "        model='invalid-model',\n",
    "        prompt='sample prompt')\n",
    "except cohere.CohereError as e:\n",
    "    print(e.message)\n",
    "    print(e.http_status)\n",
    "    print(e.headers)"
   ]
  },
  {
   "cell_type": "code",
   "execution_count": null,
   "id": "53eab7b5",
   "metadata": {},
   "outputs": [],
   "source": [
    "### Calculate similarity between 2 texts using Embeddings\n",
    "### THIS COULD BE DONE TO CALC SIMILARITY BETWEEN WIKI DESCRIPTION AND USER DESCRIPTION\n",
    "\n",
    "import cohere\n",
    "import numpy as np\n",
    "\n",
    "co = cohere.Client(\"YOUR_API_KEY\")\n",
    "\n",
    "# get the embeddings\n",
    "phrases = [\"i love soup\", \"soup is my favorite\", \"london is far away\"]\n",
    "(soup1, soup2, london) = co.embed(phrases).embeddings\n",
    "\n",
    "# compare them\n",
    "def calculate_similarity(a, b):\n",
    "    return np.dot(a, b) / (np.linalg.norm(a) * np.linalg.norm(b))\n",
    "\n",
    "calculate_similarity(soup1, soup2) # 0.9 - very similar!\n",
    "calculate_similarity(soup1, london) # 0.3 - not similar!"
   ]
  },
  {
   "cell_type": "code",
   "execution_count": null,
   "id": "9b2d1a02",
   "metadata": {},
   "outputs": [],
   "source": [
    "### Prompt Engineering\n",
    "### Prompt Engineering could also be used to get a recommendation\n",
    "### THIS needs: prompt --> keywords (summary)\n",
    "###             wikip. --> keywords (summary)\n",
    "### THEN CALCULATE SIMILARITY BETWEEN KEYWORDS\n",
    "### Prompt formulation https://docs.cohere.ai/docs/prompt-engineering\n",
    "\n",
    "\"\"\"\n",
    "This is a bot that automatically finds the most important keyword for a given text passage. Text:\n",
    "\"BLABALBA.\"\n",
    "Most important key word: \"BLA\"\n",
    "\"\"\""
   ]
  },
  {
   "cell_type": "code",
   "execution_count": null,
   "id": "bd23c1f4",
   "metadata": {},
   "outputs": [],
   "source": [
    "### We can generate multiple suggestions using likelihoods\n",
    "### https://docs.cohere.ai/docs/number-of-generations\n",
    "### Then use top-k or top-p for further generation\n",
    "### https://docs.cohere.ai/docs/controlling-generation-with-top-k-top-p"
   ]
  },
  {
   "cell_type": "code",
   "execution_count": null,
   "id": "0d40d011",
   "metadata": {},
   "outputs": [],
   "source": [
    "### Should create a custom model than compare it with baseline\n",
    "\n",
    "response = co.generate(\n",
    "  model='small', ### OR ID\n",
    "  prompt='To be, or not to be: that is the question: Whether ’tis nobler in the mind to suffer The slings and arrows of outrageous fortune, Or to take arms against a sea of troubles, And by opposing end them. To die: to sleep...',\n",
    "  max_tokens=1,\n",
    "  temperature=1,\n",
    "  k=0,\n",
    "  p=0.75,\n",
    "  return_likelihoods='ALL')\n",
    "print('Likelihood: {}'.format(response.generations[0].likelihood))"
   ]
  }
 ],
 "metadata": {
  "kernelspec": {
   "display_name": "T",
   "language": "python",
   "name": "t"
  },
  "language_info": {
   "codemirror_mode": {
    "name": "ipython",
    "version": 3
   },
   "file_extension": ".py",
   "mimetype": "text/x-python",
   "name": "python",
   "nbconvert_exporter": "python",
   "pygments_lexer": "ipython3",
   "version": "3.8.13"
  }
 },
 "nbformat": 4,
 "nbformat_minor": 5
}
